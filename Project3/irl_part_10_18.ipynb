{
  "nbformat": 4,
  "nbformat_minor": 0,
  "metadata": {
    "colab": {
      "provenance": []
    },
    "kernelspec": {
      "name": "python3",
      "display_name": "Python 3"
    },
    "language_info": {
      "name": "python"
    },
    "widgets": {
      "application/vnd.jupyter.widget-state+json": {
        "10b387e0954b4ea29a3d53519000cf88": {
          "model_module": "@jupyter-widgets/controls",
          "model_name": "HBoxModel",
          "model_module_version": "1.5.0",
          "state": {
            "_dom_classes": [],
            "_model_module": "@jupyter-widgets/controls",
            "_model_module_version": "1.5.0",
            "_model_name": "HBoxModel",
            "_view_count": null,
            "_view_module": "@jupyter-widgets/controls",
            "_view_module_version": "1.5.0",
            "_view_name": "HBoxView",
            "box_style": "",
            "children": [
              "IPY_MODEL_573264d413c54ba3914d4ed3be9caff6",
              "IPY_MODEL_fddc5fded90a4e9293141dd783c10664",
              "IPY_MODEL_1a73371decb64ec1adeb23826f7666b7"
            ],
            "layout": "IPY_MODEL_e8eb0520f6fe4b86967f421c1175e7c0"
          }
        },
        "573264d413c54ba3914d4ed3be9caff6": {
          "model_module": "@jupyter-widgets/controls",
          "model_name": "HTMLModel",
          "model_module_version": "1.5.0",
          "state": {
            "_dom_classes": [],
            "_model_module": "@jupyter-widgets/controls",
            "_model_module_version": "1.5.0",
            "_model_name": "HTMLModel",
            "_view_count": null,
            "_view_module": "@jupyter-widgets/controls",
            "_view_module_version": "1.5.0",
            "_view_name": "HTMLView",
            "description": "",
            "description_tooltip": null,
            "layout": "IPY_MODEL_89e8af63bd1b4949aa74a5fe01642345",
            "placeholder": "​",
            "style": "IPY_MODEL_59a96cb82b0442de95258804049e061a",
            "value": "100%"
          }
        },
        "fddc5fded90a4e9293141dd783c10664": {
          "model_module": "@jupyter-widgets/controls",
          "model_name": "FloatProgressModel",
          "model_module_version": "1.5.0",
          "state": {
            "_dom_classes": [],
            "_model_module": "@jupyter-widgets/controls",
            "_model_module_version": "1.5.0",
            "_model_name": "FloatProgressModel",
            "_view_count": null,
            "_view_module": "@jupyter-widgets/controls",
            "_view_module_version": "1.5.0",
            "_view_name": "ProgressView",
            "bar_style": "success",
            "description": "",
            "description_tooltip": null,
            "layout": "IPY_MODEL_bf9ba94deaa64ec9b3f61db19ce5bab8",
            "max": 501,
            "min": 0,
            "orientation": "horizontal",
            "style": "IPY_MODEL_f9f8d68b75ac4e42a1434b0dfae6460d",
            "value": 501
          }
        },
        "1a73371decb64ec1adeb23826f7666b7": {
          "model_module": "@jupyter-widgets/controls",
          "model_name": "HTMLModel",
          "model_module_version": "1.5.0",
          "state": {
            "_dom_classes": [],
            "_model_module": "@jupyter-widgets/controls",
            "_model_module_version": "1.5.0",
            "_model_name": "HTMLModel",
            "_view_count": null,
            "_view_module": "@jupyter-widgets/controls",
            "_view_module_version": "1.5.0",
            "_view_name": "HTMLView",
            "description": "",
            "description_tooltip": null,
            "layout": "IPY_MODEL_8b9ee7e91b684502ae04cf71cb02c226",
            "placeholder": "​",
            "style": "IPY_MODEL_7f77b0db584f4f42b9e201ab2dbe7bb2",
            "value": " 501/501 [02:10&lt;00:00, 10.26it/s]"
          }
        },
        "e8eb0520f6fe4b86967f421c1175e7c0": {
          "model_module": "@jupyter-widgets/base",
          "model_name": "LayoutModel",
          "model_module_version": "1.2.0",
          "state": {
            "_model_module": "@jupyter-widgets/base",
            "_model_module_version": "1.2.0",
            "_model_name": "LayoutModel",
            "_view_count": null,
            "_view_module": "@jupyter-widgets/base",
            "_view_module_version": "1.2.0",
            "_view_name": "LayoutView",
            "align_content": null,
            "align_items": null,
            "align_self": null,
            "border": null,
            "bottom": null,
            "display": null,
            "flex": null,
            "flex_flow": null,
            "grid_area": null,
            "grid_auto_columns": null,
            "grid_auto_flow": null,
            "grid_auto_rows": null,
            "grid_column": null,
            "grid_gap": null,
            "grid_row": null,
            "grid_template_areas": null,
            "grid_template_columns": null,
            "grid_template_rows": null,
            "height": null,
            "justify_content": null,
            "justify_items": null,
            "left": null,
            "margin": null,
            "max_height": null,
            "max_width": null,
            "min_height": null,
            "min_width": null,
            "object_fit": null,
            "object_position": null,
            "order": null,
            "overflow": null,
            "overflow_x": null,
            "overflow_y": null,
            "padding": null,
            "right": null,
            "top": null,
            "visibility": null,
            "width": null
          }
        },
        "89e8af63bd1b4949aa74a5fe01642345": {
          "model_module": "@jupyter-widgets/base",
          "model_name": "LayoutModel",
          "model_module_version": "1.2.0",
          "state": {
            "_model_module": "@jupyter-widgets/base",
            "_model_module_version": "1.2.0",
            "_model_name": "LayoutModel",
            "_view_count": null,
            "_view_module": "@jupyter-widgets/base",
            "_view_module_version": "1.2.0",
            "_view_name": "LayoutView",
            "align_content": null,
            "align_items": null,
            "align_self": null,
            "border": null,
            "bottom": null,
            "display": null,
            "flex": null,
            "flex_flow": null,
            "grid_area": null,
            "grid_auto_columns": null,
            "grid_auto_flow": null,
            "grid_auto_rows": null,
            "grid_column": null,
            "grid_gap": null,
            "grid_row": null,
            "grid_template_areas": null,
            "grid_template_columns": null,
            "grid_template_rows": null,
            "height": null,
            "justify_content": null,
            "justify_items": null,
            "left": null,
            "margin": null,
            "max_height": null,
            "max_width": null,
            "min_height": null,
            "min_width": null,
            "object_fit": null,
            "object_position": null,
            "order": null,
            "overflow": null,
            "overflow_x": null,
            "overflow_y": null,
            "padding": null,
            "right": null,
            "top": null,
            "visibility": null,
            "width": null
          }
        },
        "59a96cb82b0442de95258804049e061a": {
          "model_module": "@jupyter-widgets/controls",
          "model_name": "DescriptionStyleModel",
          "model_module_version": "1.5.0",
          "state": {
            "_model_module": "@jupyter-widgets/controls",
            "_model_module_version": "1.5.0",
            "_model_name": "DescriptionStyleModel",
            "_view_count": null,
            "_view_module": "@jupyter-widgets/base",
            "_view_module_version": "1.2.0",
            "_view_name": "StyleView",
            "description_width": ""
          }
        },
        "bf9ba94deaa64ec9b3f61db19ce5bab8": {
          "model_module": "@jupyter-widgets/base",
          "model_name": "LayoutModel",
          "model_module_version": "1.2.0",
          "state": {
            "_model_module": "@jupyter-widgets/base",
            "_model_module_version": "1.2.0",
            "_model_name": "LayoutModel",
            "_view_count": null,
            "_view_module": "@jupyter-widgets/base",
            "_view_module_version": "1.2.0",
            "_view_name": "LayoutView",
            "align_content": null,
            "align_items": null,
            "align_self": null,
            "border": null,
            "bottom": null,
            "display": null,
            "flex": null,
            "flex_flow": null,
            "grid_area": null,
            "grid_auto_columns": null,
            "grid_auto_flow": null,
            "grid_auto_rows": null,
            "grid_column": null,
            "grid_gap": null,
            "grid_row": null,
            "grid_template_areas": null,
            "grid_template_columns": null,
            "grid_template_rows": null,
            "height": null,
            "justify_content": null,
            "justify_items": null,
            "left": null,
            "margin": null,
            "max_height": null,
            "max_width": null,
            "min_height": null,
            "min_width": null,
            "object_fit": null,
            "object_position": null,
            "order": null,
            "overflow": null,
            "overflow_x": null,
            "overflow_y": null,
            "padding": null,
            "right": null,
            "top": null,
            "visibility": null,
            "width": null
          }
        },
        "f9f8d68b75ac4e42a1434b0dfae6460d": {
          "model_module": "@jupyter-widgets/controls",
          "model_name": "ProgressStyleModel",
          "model_module_version": "1.5.0",
          "state": {
            "_model_module": "@jupyter-widgets/controls",
            "_model_module_version": "1.5.0",
            "_model_name": "ProgressStyleModel",
            "_view_count": null,
            "_view_module": "@jupyter-widgets/base",
            "_view_module_version": "1.2.0",
            "_view_name": "StyleView",
            "bar_color": null,
            "description_width": ""
          }
        },
        "8b9ee7e91b684502ae04cf71cb02c226": {
          "model_module": "@jupyter-widgets/base",
          "model_name": "LayoutModel",
          "model_module_version": "1.2.0",
          "state": {
            "_model_module": "@jupyter-widgets/base",
            "_model_module_version": "1.2.0",
            "_model_name": "LayoutModel",
            "_view_count": null,
            "_view_module": "@jupyter-widgets/base",
            "_view_module_version": "1.2.0",
            "_view_name": "LayoutView",
            "align_content": null,
            "align_items": null,
            "align_self": null,
            "border": null,
            "bottom": null,
            "display": null,
            "flex": null,
            "flex_flow": null,
            "grid_area": null,
            "grid_auto_columns": null,
            "grid_auto_flow": null,
            "grid_auto_rows": null,
            "grid_column": null,
            "grid_gap": null,
            "grid_row": null,
            "grid_template_areas": null,
            "grid_template_columns": null,
            "grid_template_rows": null,
            "height": null,
            "justify_content": null,
            "justify_items": null,
            "left": null,
            "margin": null,
            "max_height": null,
            "max_width": null,
            "min_height": null,
            "min_width": null,
            "object_fit": null,
            "object_position": null,
            "order": null,
            "overflow": null,
            "overflow_x": null,
            "overflow_y": null,
            "padding": null,
            "right": null,
            "top": null,
            "visibility": null,
            "width": null
          }
        },
        "7f77b0db584f4f42b9e201ab2dbe7bb2": {
          "model_module": "@jupyter-widgets/controls",
          "model_name": "DescriptionStyleModel",
          "model_module_version": "1.5.0",
          "state": {
            "_model_module": "@jupyter-widgets/controls",
            "_model_module_version": "1.5.0",
            "_model_name": "DescriptionStyleModel",
            "_view_count": null,
            "_view_module": "@jupyter-widgets/base",
            "_view_module_version": "1.2.0",
            "_view_name": "StyleView",
            "description_width": ""
          }
        },
        "8fe7ec4598fa43ed8899e107ea3a59f0": {
          "model_module": "@jupyter-widgets/controls",
          "model_name": "HBoxModel",
          "model_module_version": "1.5.0",
          "state": {
            "_dom_classes": [],
            "_model_module": "@jupyter-widgets/controls",
            "_model_module_version": "1.5.0",
            "_model_name": "HBoxModel",
            "_view_count": null,
            "_view_module": "@jupyter-widgets/controls",
            "_view_module_version": "1.5.0",
            "_view_name": "HBoxView",
            "box_style": "",
            "children": [
              "IPY_MODEL_f98a40b775f743728f1b5e0a2bc18bca",
              "IPY_MODEL_ebee20c8cba24d4abf594bad51f45e14",
              "IPY_MODEL_ecaf709dddfe421492e85758bf348c64"
            ],
            "layout": "IPY_MODEL_b9dd6da81e804491b8fd422f2859fc80"
          }
        },
        "f98a40b775f743728f1b5e0a2bc18bca": {
          "model_module": "@jupyter-widgets/controls",
          "model_name": "HTMLModel",
          "model_module_version": "1.5.0",
          "state": {
            "_dom_classes": [],
            "_model_module": "@jupyter-widgets/controls",
            "_model_module_version": "1.5.0",
            "_model_name": "HTMLModel",
            "_view_count": null,
            "_view_module": "@jupyter-widgets/controls",
            "_view_module_version": "1.5.0",
            "_view_name": "HTMLView",
            "description": "",
            "description_tooltip": null,
            "layout": "IPY_MODEL_1ca38d8a44734e7a81671f17f371d925",
            "placeholder": "​",
            "style": "IPY_MODEL_a567c212085045038126c284642cff50",
            "value": "100%"
          }
        },
        "ebee20c8cba24d4abf594bad51f45e14": {
          "model_module": "@jupyter-widgets/controls",
          "model_name": "FloatProgressModel",
          "model_module_version": "1.5.0",
          "state": {
            "_dom_classes": [],
            "_model_module": "@jupyter-widgets/controls",
            "_model_module_version": "1.5.0",
            "_model_name": "FloatProgressModel",
            "_view_count": null,
            "_view_module": "@jupyter-widgets/controls",
            "_view_module_version": "1.5.0",
            "_view_name": "ProgressView",
            "bar_style": "success",
            "description": "",
            "description_tooltip": null,
            "layout": "IPY_MODEL_b8bcdfe1250e42bc9c73677104563e35",
            "max": 500,
            "min": 0,
            "orientation": "horizontal",
            "style": "IPY_MODEL_ee7497d8c1c6440f8f0bd1c3cee8f189",
            "value": 500
          }
        },
        "ecaf709dddfe421492e85758bf348c64": {
          "model_module": "@jupyter-widgets/controls",
          "model_name": "HTMLModel",
          "model_module_version": "1.5.0",
          "state": {
            "_dom_classes": [],
            "_model_module": "@jupyter-widgets/controls",
            "_model_module_version": "1.5.0",
            "_model_name": "HTMLModel",
            "_view_count": null,
            "_view_module": "@jupyter-widgets/controls",
            "_view_module_version": "1.5.0",
            "_view_name": "HTMLView",
            "description": "",
            "description_tooltip": null,
            "layout": "IPY_MODEL_74c336f09c794424879bd6a9249af1dd",
            "placeholder": "​",
            "style": "IPY_MODEL_1b5b2809fe8b466781136d14349cb02d",
            "value": " 500/500 [02:31&lt;00:00,  9.80it/s]"
          }
        },
        "b9dd6da81e804491b8fd422f2859fc80": {
          "model_module": "@jupyter-widgets/base",
          "model_name": "LayoutModel",
          "model_module_version": "1.2.0",
          "state": {
            "_model_module": "@jupyter-widgets/base",
            "_model_module_version": "1.2.0",
            "_model_name": "LayoutModel",
            "_view_count": null,
            "_view_module": "@jupyter-widgets/base",
            "_view_module_version": "1.2.0",
            "_view_name": "LayoutView",
            "align_content": null,
            "align_items": null,
            "align_self": null,
            "border": null,
            "bottom": null,
            "display": null,
            "flex": null,
            "flex_flow": null,
            "grid_area": null,
            "grid_auto_columns": null,
            "grid_auto_flow": null,
            "grid_auto_rows": null,
            "grid_column": null,
            "grid_gap": null,
            "grid_row": null,
            "grid_template_areas": null,
            "grid_template_columns": null,
            "grid_template_rows": null,
            "height": null,
            "justify_content": null,
            "justify_items": null,
            "left": null,
            "margin": null,
            "max_height": null,
            "max_width": null,
            "min_height": null,
            "min_width": null,
            "object_fit": null,
            "object_position": null,
            "order": null,
            "overflow": null,
            "overflow_x": null,
            "overflow_y": null,
            "padding": null,
            "right": null,
            "top": null,
            "visibility": null,
            "width": null
          }
        },
        "1ca38d8a44734e7a81671f17f371d925": {
          "model_module": "@jupyter-widgets/base",
          "model_name": "LayoutModel",
          "model_module_version": "1.2.0",
          "state": {
            "_model_module": "@jupyter-widgets/base",
            "_model_module_version": "1.2.0",
            "_model_name": "LayoutModel",
            "_view_count": null,
            "_view_module": "@jupyter-widgets/base",
            "_view_module_version": "1.2.0",
            "_view_name": "LayoutView",
            "align_content": null,
            "align_items": null,
            "align_self": null,
            "border": null,
            "bottom": null,
            "display": null,
            "flex": null,
            "flex_flow": null,
            "grid_area": null,
            "grid_auto_columns": null,
            "grid_auto_flow": null,
            "grid_auto_rows": null,
            "grid_column": null,
            "grid_gap": null,
            "grid_row": null,
            "grid_template_areas": null,
            "grid_template_columns": null,
            "grid_template_rows": null,
            "height": null,
            "justify_content": null,
            "justify_items": null,
            "left": null,
            "margin": null,
            "max_height": null,
            "max_width": null,
            "min_height": null,
            "min_width": null,
            "object_fit": null,
            "object_position": null,
            "order": null,
            "overflow": null,
            "overflow_x": null,
            "overflow_y": null,
            "padding": null,
            "right": null,
            "top": null,
            "visibility": null,
            "width": null
          }
        },
        "a567c212085045038126c284642cff50": {
          "model_module": "@jupyter-widgets/controls",
          "model_name": "DescriptionStyleModel",
          "model_module_version": "1.5.0",
          "state": {
            "_model_module": "@jupyter-widgets/controls",
            "_model_module_version": "1.5.0",
            "_model_name": "DescriptionStyleModel",
            "_view_count": null,
            "_view_module": "@jupyter-widgets/base",
            "_view_module_version": "1.2.0",
            "_view_name": "StyleView",
            "description_width": ""
          }
        },
        "b8bcdfe1250e42bc9c73677104563e35": {
          "model_module": "@jupyter-widgets/base",
          "model_name": "LayoutModel",
          "model_module_version": "1.2.0",
          "state": {
            "_model_module": "@jupyter-widgets/base",
            "_model_module_version": "1.2.0",
            "_model_name": "LayoutModel",
            "_view_count": null,
            "_view_module": "@jupyter-widgets/base",
            "_view_module_version": "1.2.0",
            "_view_name": "LayoutView",
            "align_content": null,
            "align_items": null,
            "align_self": null,
            "border": null,
            "bottom": null,
            "display": null,
            "flex": null,
            "flex_flow": null,
            "grid_area": null,
            "grid_auto_columns": null,
            "grid_auto_flow": null,
            "grid_auto_rows": null,
            "grid_column": null,
            "grid_gap": null,
            "grid_row": null,
            "grid_template_areas": null,
            "grid_template_columns": null,
            "grid_template_rows": null,
            "height": null,
            "justify_content": null,
            "justify_items": null,
            "left": null,
            "margin": null,
            "max_height": null,
            "max_width": null,
            "min_height": null,
            "min_width": null,
            "object_fit": null,
            "object_position": null,
            "order": null,
            "overflow": null,
            "overflow_x": null,
            "overflow_y": null,
            "padding": null,
            "right": null,
            "top": null,
            "visibility": null,
            "width": null
          }
        },
        "ee7497d8c1c6440f8f0bd1c3cee8f189": {
          "model_module": "@jupyter-widgets/controls",
          "model_name": "ProgressStyleModel",
          "model_module_version": "1.5.0",
          "state": {
            "_model_module": "@jupyter-widgets/controls",
            "_model_module_version": "1.5.0",
            "_model_name": "ProgressStyleModel",
            "_view_count": null,
            "_view_module": "@jupyter-widgets/base",
            "_view_module_version": "1.2.0",
            "_view_name": "StyleView",
            "bar_color": null,
            "description_width": ""
          }
        },
        "74c336f09c794424879bd6a9249af1dd": {
          "model_module": "@jupyter-widgets/base",
          "model_name": "LayoutModel",
          "model_module_version": "1.2.0",
          "state": {
            "_model_module": "@jupyter-widgets/base",
            "_model_module_version": "1.2.0",
            "_model_name": "LayoutModel",
            "_view_count": null,
            "_view_module": "@jupyter-widgets/base",
            "_view_module_version": "1.2.0",
            "_view_name": "LayoutView",
            "align_content": null,
            "align_items": null,
            "align_self": null,
            "border": null,
            "bottom": null,
            "display": null,
            "flex": null,
            "flex_flow": null,
            "grid_area": null,
            "grid_auto_columns": null,
            "grid_auto_flow": null,
            "grid_auto_rows": null,
            "grid_column": null,
            "grid_gap": null,
            "grid_row": null,
            "grid_template_areas": null,
            "grid_template_columns": null,
            "grid_template_rows": null,
            "height": null,
            "justify_content": null,
            "justify_items": null,
            "left": null,
            "margin": null,
            "max_height": null,
            "max_width": null,
            "min_height": null,
            "min_width": null,
            "object_fit": null,
            "object_position": null,
            "order": null,
            "overflow": null,
            "overflow_x": null,
            "overflow_y": null,
            "padding": null,
            "right": null,
            "top": null,
            "visibility": null,
            "width": null
          }
        },
        "1b5b2809fe8b466781136d14349cb02d": {
          "model_module": "@jupyter-widgets/controls",
          "model_name": "DescriptionStyleModel",
          "model_module_version": "1.5.0",
          "state": {
            "_model_module": "@jupyter-widgets/controls",
            "_model_module_version": "1.5.0",
            "_model_name": "DescriptionStyleModel",
            "_view_count": null,
            "_view_module": "@jupyter-widgets/base",
            "_view_module_version": "1.2.0",
            "_view_name": "StyleView",
            "description_width": ""
          }
        }
      }
    }
  },
  "cells": [
    {
      "cell_type": "code",
      "execution_count": null,
      "metadata": {
        "id": "1YtqdPtwXM8t"
      },
      "outputs": [],
      "source": [
        "import numpy as np\n",
        "import numpy.random as rn\n",
        "import matplotlib.pyplot as plt\n",
        "%matplotlib inline\n",
        "\n",
        "from cvxopt import matrix, solvers\n",
        "from tqdm.auto import tqdm"
      ]
    },
    {
      "cell_type": "code",
      "source": [
        "reward_func1 = np.array(\n",
        "    [\n",
        "        [0,0,0,0,0,0,0,0,0,0], \n",
        "        [0,0,0,0,0,0,0,0,0,0], \n",
        "        [0,0,0,0,0,-10,-10,0,0,0], \n",
        "        [0,0,0,0,0,-10,-10,0,0,0],\n",
        "        [0,-10,-10,0,0,0,0,0,0,0],\n",
        "        [0,-10,-10,0,0,0,0,0,0,0],\n",
        "        [0,0,0,0,0,0,0,0,0,0],\n",
        "        [0,0,0,0,0,0,0,0,0,0],\n",
        "        [0,0,-10,-10,0,0,0,0,0,0],\n",
        "        [0,0,-10,-10,0,0,0,0,0,1],\n",
        "    ]\n",
        ")"
      ],
      "metadata": {
        "id": "OpDr9xcdZW3r"
      },
      "execution_count": null,
      "outputs": []
    },
    {
      "cell_type": "code",
      "source": [
        "## Define the gridworld MDP class\n",
        "\n",
        "class Gridworld(object):\n",
        "    \"\"\"\n",
        "    Gridworld MDP.\n",
        "    \"\"\"\n",
        "    \n",
        "    def __init__(self, grid_size, wind, discount):\n",
        "        \"\"\"\n",
        "        grid_size: Grid size. int.\n",
        "        wind: Chance of moving randomly. float.\n",
        "        discount: MDP discount. float.\n",
        "        -> Gridworld\n",
        "        \"\"\"\n",
        "\n",
        "        self.actions = ((1, 0), (0, 1), (-1, 0), (0, -1))\n",
        "        self.n_actions = len(self.actions)\n",
        "        self.n_states = grid_size**2\n",
        "        self.grid_size = grid_size\n",
        "        self.wind = wind\n",
        "        self.discount = discount\n",
        "\n",
        "        # Preconstruct the transition probability array.\n",
        "        self.transition_probability = np.array(\n",
        "            [[[self._transition_probability(i, j, k)\n",
        "               for k in range(self.n_states)]\n",
        "              for j in range(self.n_actions)]\n",
        "             for i in range(self.n_states)])\n",
        "\n",
        "    def __str__(self):\n",
        "        return \"Gridworld({}, {}, {})\".format(self.grid_size, self.wind,\n",
        "                                              self.discount)\n",
        "    \n",
        "    def int_to_point(self, i):\n",
        "        \"\"\"\n",
        "        Convert a state int into the corresponding coordinate.\n",
        "\n",
        "        i: State int.\n",
        "        -> (x, y) int tuple.\n",
        "        \"\"\"\n",
        "\n",
        "        return (i % self.grid_size, i // self.grid_size)\n",
        "\n",
        "    def point_to_int(self, p):\n",
        "        \"\"\"\n",
        "        Convert a coordinate into the corresponding state int.\n",
        "\n",
        "        p: (x, y) tuple.\n",
        "        -> State int.\n",
        "        \"\"\"\n",
        "\n",
        "        return int(p[0] + p[1]*self.grid_size)\n",
        "\n",
        "    def neighbouring(self, i, k):\n",
        "        \"\"\"\n",
        "        Get whether two points neighbour each other. Also returns true if they\n",
        "        are the same point.\n",
        "\n",
        "        i: (x, y) int tuple.\n",
        "        k: (x, y) int tuple.\n",
        "        -> bool.\n",
        "        \"\"\"\n",
        "\n",
        "        return abs(i[0] - k[0]) + abs(i[1] - k[1]) <= 1\n",
        "\n",
        "    def _transition_probability(self, i, j, k):\n",
        "        \"\"\"\n",
        "        Get the probability of transitioning from state i to state k given\n",
        "        action j.\n",
        "\n",
        "        i: State int.\n",
        "        j: Action int.\n",
        "        k: State int.\n",
        "        -> p(s_k | s_i, a_j)\n",
        "        \"\"\"\n",
        "\n",
        "        xi, yi = self.int_to_point(i)\n",
        "        xj, yj = self.actions[j]\n",
        "        xk, yk = self.int_to_point(k)\n",
        "        \n",
        "\n",
        "        if not self.neighbouring((xi, yi), (xk, yk)):\n",
        "            return 0\n",
        "\n",
        "        # Is k the intended state to move to?\n",
        "        if (xi + xj, yi + yj) == (xk, yk):\n",
        "            return 1 - 0.75 * self.wind\n",
        "\n",
        "        # If these are not the same point, then we can move there by wind.\n",
        "        if (xi, yi) != (xk, yk):\n",
        "            return self.wind / 4\n",
        "\n",
        "        \n",
        "        # If these are the same point, we can only move here by either moving\n",
        "        # off the grid or being blown off the grid. Are we on a corner or not?\n",
        "        if i in [0, self.grid_size-1, self.grid_size*10, self.grid_size**2-1]:\n",
        "            # Corner.\n",
        "            # Can move off the edge in two directions.\n",
        "            # Did we intend to move off the grid?\n",
        "            if min(xi+xj, yi+yj) < 0 or max(xi+xj, yi+yj) >= self.grid_size: \n",
        "                # we have the regular success chance of staying here\n",
        "                # plus an extra chance of blowing onto the *other* off-grid square\n",
        "                return 1 - 0.5 * self.wind\n",
        "            else:\n",
        "                # We can blow off the grid in either direction only by wind.\n",
        "                return 0.5 * self.wind\n",
        "        else:\n",
        "            # Not a corner. Is it an edge?\n",
        "            if 0 < xi < self.grid_size-1 and 0 < yi < self.grid_size-1:\n",
        "                return 0\n",
        "            \n",
        "            else:#it is an edge\n",
        "                # we Can only move off the edge in one direction.\n",
        "                # Did we intend to move off the grid?\n",
        "                if min(xi+xj, yi+yj) < 0 or max(xi+xj, yi+yj) >= self.grid_size:\n",
        "                    #we have the regular success chance of staying here.\n",
        "                    return 1 - 0.75 * self.wind\n",
        "                else:\n",
        "                    # We can blow off the grid only by wind.\n",
        "                    return self.wind / 4\n",
        "\n",
        "    def lp_reward(self, state_int, rw_function=1):\n",
        "        \"\"\"\n",
        "        Reward for being in state state_int.\n",
        "\n",
        "        state_int: State integer. int.\n",
        "        -> Reward.\n",
        "        \"\"\"\n",
        "        if rw_function == 1:\n",
        "            postive_reward = 1\n",
        "            negative_reward = -10\n",
        "            negative_set = {14, 15, 24, 25, 28, 29, 38, 39, 52, 53, 62, 63}\n",
        "        if rw_function == 2:\n",
        "            postive_reward = 10\n",
        "            negative_reward = -100\n",
        "            negative_set = {41, 42, 43, 44, 45, 46, 51, 61, 62, \n",
        "                            63, 67, 68, 73, 77, 83, 84, 85, 86, 87}\n",
        "        \n",
        "        #look at figure 6,7 to retrurn a reward at the given state. \n",
        "        if state_int == 99:\n",
        "            return postive_reward\n",
        "        elif state_int in negative_set:\n",
        "            return negative_reward\n",
        "        else:\n",
        "            return 0"
      ],
      "metadata": {
        "id": "VKSZ38B4XT7h"
      },
      "execution_count": null,
      "outputs": []
    },
    {
      "cell_type": "code",
      "source": [
        "## Function for plotting the matrix values\n",
        "\n",
        "def plot_matrix(matrix):\n",
        "    fig, ax = plt.subplots()\n",
        "    num_rows = len(matrix)\n",
        "    min_val, max_val = 0, num_rows\n",
        "\n",
        "    for i in range(num_rows):\n",
        "        for j in range(num_rows):\n",
        "            c = matrix[i][j]\n",
        "            ax.text(j+0.5, i+0.5, '{:.1f}'.format(c), va='center', ha='center')\n",
        "\n",
        "    ax.set_xlim(min_val, max_val)\n",
        "    ax.set_ylim(max_val, min_val)\n",
        "    ax.set_xticks(np.arange(max_val))\n",
        "    ax.set_yticks(np.arange(max_val))\n",
        "    ax.xaxis.tick_top()\n",
        "    ax.grid()\n",
        "    plt.show()\n",
        "    plt.close()"
      ],
      "metadata": {
        "id": "0Ds8RmqxbHWl"
      },
      "execution_count": null,
      "outputs": []
    },
    {
      "cell_type": "code",
      "source": [
        "## Creating the gridworld MDP with the following parameters\n",
        "\n",
        "grid_size = 10\n",
        "wind = 0.1\n",
        "discount = 0.8\n",
        "\n",
        "# Make the gridworld and associated data.\n",
        "gw = Gridworld(grid_size, wind, discount)"
      ],
      "metadata": {
        "id": "oRekx1j1bJQg"
      },
      "execution_count": null,
      "outputs": []
    },
    {
      "cell_type": "code",
      "source": [
        "def find_policy(n_states, n_actions, transition_probabilities, reward, discount,\n",
        "                threshold=1e-2, v=None, stochastic=False):\n",
        "    \"\"\"\n",
        "    Find the optimal policy.\n",
        "\n",
        "    n_states: Number of states. int.\n",
        "    n_actions: Number of actions. int.\n",
        "    transition_probabilities: Function taking (state, action, state) to\n",
        "        transition probabilities.\n",
        "    reward: Vector of rewards for each state.\n",
        "    discount: MDP discount factor. float.\n",
        "    threshold: Convergence threshold, default 1e-2. float.\n",
        "    v: Value function (if known). Default None.\n",
        "    stochastic: Whether the policy should be stochastic. Default True.\n",
        "    -> Action probabilities for each state or action int for each state\n",
        "        (depending on stochasticity).\n",
        "    \"\"\"\n",
        "\n",
        "    if v is None:\n",
        "        v = optimal_value(n_states, n_actions, transition_probabilities, reward,\n",
        "                          discount, threshold)\n",
        "\n",
        "    def _policy(s):\n",
        "        # calculate new v[i]\n",
        "        new_values = []\n",
        "        for a in range(n_actions):\n",
        "            new_values.append(np.dot(transition_probabilities[s][a], \n",
        "                                        (reward + discount * v)))\n",
        "        return np.argmax(new_values)\n",
        "     \n",
        "    policy = np.array([_policy(s) for s in range(n_states)])\n",
        "    return policy"
      ],
      "metadata": {
        "id": "g4DS7e-1k6t2"
      },
      "execution_count": null,
      "outputs": []
    },
    {
      "cell_type": "code",
      "source": [
        "def calculate_D_and_b(best_policy, discount_factor, max_reward):\n",
        "    direction_map = {u\"\\u2191\": 0, u\"\\u2193\": 1, u\"\\u2190\": 2, u\"\\u2192\":3}\n",
        "    transition_probs = list(compute_tps(w))\n",
        "    expected_probabilities = []\n",
        "    agent_probabilities = [[], [], []]\n",
        "\n",
        "    for state in range(100):\n",
        "        expected_action = direction_map[best_policy[state]]\n",
        "        agent = 0\n",
        "        for action in range(4):\n",
        "            if action == expected_action:\n",
        "                expected_probabilities.append(transition_probs[action][state])\n",
        "            else:\n",
        "                agent_probabilities[agent].append(transition_probs[action][state])\n",
        "                agent += 1\n",
        "\n",
        "    expected_probabilities = np.array(expected_probabilities)\n",
        "    identity_matrix = np.eye(100)\n",
        "    zero_matrix = np.zeros((100, 100))\n",
        "    D_matrix = np.concatenate((zero_matrix, zero_matrix, zero_matrix, zero_matrix))\n",
        "    D_matrix = np.concatenate(\n",
        "        (D_matrix, np.concatenate((-identity_matrix, -identity_matrix, zero_matrix, zero_matrix)), np.concatenate((identity_matrix, -identity_matrix, identity_matrix, -identity_matrix))), 1\n",
        "    )\n",
        " \n",
        "    for agent_probability in agent_probabilities:\n",
        "        temp = np.dot(np.array(agent_probability) - expected_probabilities, np.linalg.inv(identity_matrix - discount_factor*expected_probabilities))\n",
        "        temp1 = np.concatenate((identity_matrix, zero_matrix, temp), 1)\n",
        "        temp2 = np.concatenate((zero_matrix, zero_matrix, temp), 1)\n",
        "        D_matrix = np.concatenate((np.concatenate((temp1, temp2)), D_matrix))\n",
        "\n",
        "    b_vector_1 = np.array([0.0 for _ in range(800)])\n",
        "    b_vector_2 = np.array([max_reward for _ in range(200)])\n",
        "    b_vector = np.concatenate((b_vector_1, b_vector_2), axis=0)\n",
        "    return matrix(D_matrix), matrix(b_vector)\n",
        "\n",
        "\n",
        "def calculate_c(lambda_value):\n",
        "    c_vector_1 = np.array([-1.0 for _ in range(100)])\n",
        "    c_vector_2 = np.array([lambda_value for _ in range(100)])\n",
        "    c_vector_3 = np.array([0.0 for _ in range(100)])\n",
        "    return matrix(np.concatenate((c_vector_1, c_vector_2, c_vector_3), axis=0))\n"
      ],
      "metadata": {
        "id": "1uNt-5rZYacr"
      },
      "execution_count": null,
      "outputs": []
    },
    {
      "cell_type": "code",
      "source": [
        "def plot_and_get_accuracies(lambdas, optimal_policy, gamma, r_max, title):\n",
        "    I = np.identity(100)\n",
        "    accs = []\n",
        "    \n",
        "    D, b = compute_D_and_b(optimal_policy, gamma, r_max)\n",
        "    \n",
        "    for lambda_ in tqdm(lambdas):\n",
        "        c = compute_c(lambda_)\n",
        "        rewards = get_lp_rewards(c, D, b)\n",
        "        agent_policy = get_optimal_policy(w, gamma, rewards, epsilon)\n",
        "        agent_policy = agent_policy.T.flatten()\n",
        "        acc = (agent_policy == optimal_policy).mean()\n",
        "        accs.append(acc)\n",
        "\n",
        "    plt.plot(lambdas, accs)\n",
        "    plt.xlabel(\"Lambda\")\n",
        "    plt.ylabel(\"Accuracy\")\n",
        "    plt.title(title)\n",
        "    plt.show()\n",
        "    \n",
        "    return accs\n",
        "\n",
        "\n",
        "def get_lp_rewards(c, D, b):\n",
        "    solvers.options[\"show_progress\"] = False\n",
        "    solution = solvers.lp(c, D, b)\n",
        "    return np.array(solution[\"x\"][-100:])"
      ],
      "metadata": {
        "id": "v7zvJUMKYdls"
      },
      "execution_count": null,
      "outputs": []
    },
    {
      "cell_type": "code",
      "source": [
        "def compute_state_value_snapshots(w, gamma, reward_func, epsilon):\n",
        "    transition_probabilities_up, transition_probabilities_down, transition_probabilities_left, transition_probabilities_right = compute_tps(w)\n",
        "    state_values = np.zeros(100)\n",
        "    change = float('inf')\n",
        "    rewards = (reward_func.transpose()).flatten()\n",
        "    iteration = 0\n",
        "    value_snapshots = []\n",
        "    \n",
        "    while change > epsilon:\n",
        "        change = 0\n",
        "        previous_state_values = np.copy(state_values)\n",
        "        for state in range(100):\n",
        "            up_value = np.sum(transition_probabilities_up[state] * (rewards + gamma*previous_state_values))\n",
        "            down_value = np.sum(transition_probabilities_down[state] * (rewards + gamma*previous_state_values))\n",
        "            left_value = np.sum(transition_probabilities_left[state] * (rewards + gamma*previous_state_values))\n",
        "            right_value = np.sum(transition_probabilities_right[state] * (rewards + gamma*previous_state_values))\n",
        "            state_values[state] = max(up_value, down_value, right_value, left_value)\n",
        "            change = max(change, abs(previous_state_values[state]-state_values[state]))\n",
        "        iteration += 1\n",
        "        value_snapshots.append(np.copy(state_values).reshape(10,10).transpose())\n",
        "\n",
        "    print(\"Number of iterations to reach convergence:\", len(value_snapshots))\n",
        "    return value_snapshots\n"
      ],
      "metadata": {
        "id": "niZC6TJWhoqV"
      },
      "execution_count": null,
      "outputs": []
    },
    {
      "cell_type": "code",
      "source": [
        "def reward_grid_plot(rw_function=1):\n",
        "    reward_matrix = np.zeros((grid_size, grid_size))\n",
        "    for j in range(grid_size):\n",
        "        for i in range(grid_size):\n",
        "            reward_matrix[i][j] = gw.reward(gw.point_to_int((i,j)), rw_function)\n",
        "    plot_matrix(reward_matrix)\n",
        "    return reward_matrix\n",
        "reward_matrix = reward_grid_plot(rw_function=1)"
      ],
      "metadata": {
        "colab": {
          "base_uri": "https://localhost:8080/",
          "height": 430
        },
        "id": "gAKCsYuwf_OZ",
        "outputId": "d49fff3e-2664-46bf-ce55-3a45866d5a52"
      },
      "execution_count": null,
      "outputs": [
        {
          "output_type": "display_data",
          "data": {
            "text/plain": [
              "<Figure size 640x480 with 1 Axes>"
            ],
            "image/png": "[encoded data removed]"
          },
          "metadata": {}
        }
      ]
    },
    {
      "cell_type": "code",
      "source": [
        "def plot_heatmap(grid, title):\n",
        "    plt.pcolor(grid, edgecolors=\"black\")\n",
        "    for i in range(grid.shape[0]):\n",
        "      for j in range(grid.shape[1]):\n",
        "        plt.text(0.5+j, 0.5+i, f'{reward_matrix[i, j]:.0f}', \n",
        "                 ha='center', va='center', color='w')\n",
        "    plt.gca().invert_yaxis()\n",
        "    plt.colorbar()\n",
        "    plt.title(title)\n",
        "    plt.show()\n",
        "    # plt.axis('off')"
      ],
      "metadata": {
        "id": "PQNGmcu9e_0X"
      },
      "execution_count": null,
      "outputs": []
    },
    {
      "cell_type": "code",
      "source": [
        "## Function for plotting the optimal actions at each state in the grid\n",
        "## The function takes as input the matrix containing optimal actions\n",
        "## and plots the actions for each state on the grid\n",
        "\n",
        "def plot_arrow(action_matrix):\n",
        "    \n",
        "    fig, ax = plt.subplots()\n",
        "    num_rows = len(action_matrix)\n",
        "    min_val, max_val = 0, num_rows\n",
        "\n",
        "    for i in range(num_rows):\n",
        "        for j in range(num_rows):\n",
        "            c = action_matrix[i][j]\n",
        "            arrow = ''\n",
        "            if(c == 0):\n",
        "                arrow = u'↓'\n",
        "            elif(c == 1):\n",
        "                arrow = u'→'\n",
        "            elif(c == 2):\n",
        "                arrow = u'↑'\n",
        "            else:\n",
        "                arrow = u'←'\n",
        "            \n",
        "            ax.text(j + 0.5, i + 0.5, arrow, va='center', ha='center')\n",
        "\n",
        "    ax.set_xlim(min_val, max_val)\n",
        "    ax.set_ylim(max_val, min_val)\n",
        "    ax.set_xticks(np.arange(max_val))\n",
        "    ax.set_yticks(np.arange(max_val))\n",
        "    ax.xaxis.tick_top()\n",
        "    ax.grid()"
      ],
      "metadata": {
        "id": "i6Tj4XWUkmj9"
      },
      "execution_count": null,
      "outputs": []
    },
    {
      "cell_type": "markdown",
      "source": [
        "**Question 11:**"
      ],
      "metadata": {
        "id": "Vy-28jFpeiON"
      }
    },
    {
      "cell_type": "code",
      "source": [
        "w = 0.1\n",
        "gamma = 0.8\n",
        "epsilon = 0.01\n",
        "optimal_policy = get_optimal_policy(w, gamma, reward_func1, epsilon)\n",
        "optimal_policy = optimal_policy.T.flatten()\n",
        "\n",
        "lambdas = np.arange(0, 5.00, 0.01)\n",
        "r_max = abs(reward_func1).max()\n",
        "title = \"Accuracy vs Lambda with reward function 1\"\n",
        "accs = plot_and_get_accuracies(lambdas, optimal_policy, gamma, r_max, title)"
      ],
      "metadata": {
        "colab": {
          "base_uri": "https://localhost:8080/",
          "height": 504,
          "referenced_widgets": [
            "8fe7ec4598fa43ed8899e107ea3a59f0",
            "f98a40b775f743728f1b5e0a2bc18bca",
            "ebee20c8cba24d4abf594bad51f45e14",
            "ecaf709dddfe421492e85758bf348c64",
            "b9dd6da81e804491b8fd422f2859fc80",
            "1ca38d8a44734e7a81671f17f371d925",
            "a567c212085045038126c284642cff50",
            "b8bcdfe1250e42bc9c73677104563e35",
            "ee7497d8c1c6440f8f0bd1c3cee8f189",
            "74c336f09c794424879bd6a9249af1dd",
            "1b5b2809fe8b466781136d14349cb02d"
          ]
        },
        "id": "8-BolOAOYgFR",
        "outputId": "2367b79e-5399-49e8-a9bd-2ef0f4169357"
      },
      "execution_count": null,
      "outputs": [
        {
          "output_type": "display_data",
          "data": {
            "text/plain": [
              "  0%|          | 0/500 [00:00<?, ?it/s]"
            ],
            "application/vnd.jupyter.widget-view+json": {
              "version_major": 2,
              "version_minor": 0,
              "model_id": "8fe7ec4598fa43ed8899e107ea3a59f0"
            }
          },
          "metadata": {}
        },
        {
          "output_type": "display_data",
          "data": {
            "text/plain": [
              "<Figure size 640x480 with 1 Axes>"
            ],
            "image/png": "[encoded data removed]"
          },
          "metadata": {}
        }
      ]
    },
    {
      "cell_type": "markdown",
      "source": [
        "**Question 12:**"
      ],
      "metadata": {
        "id": "2IUauh7GhFlu"
      }
    },
    {
      "cell_type": "code",
      "source": [
        "lambda_max1 = lambdas[np.argmax(accs)]\n",
        "print(\"Max accuracy:\", max(accs))\n",
        "print(\"λ(1)max:\", lambda_max1)"
      ],
      "metadata": {
        "colab": {
          "base_uri": "https://localhost:8080/"
        },
        "id": "8fTUlYUjemLE",
        "outputId": "78510fa8-a2ca-47e2-ebf6-e999399c64c1"
      },
      "execution_count": null,
      "outputs": [
        {
          "output_type": "stream",
          "name": "stdout",
          "text": [
            "Max accuracy: 0.96\n",
            "λ(1)max: 0.79\n"
          ]
        }
      ]
    },
    {
      "cell_type": "markdown",
      "source": [
        "**Question 13:**"
      ],
      "metadata": {
        "id": "wfbhgtbxhIG4"
      }
    },
    {
      "cell_type": "code",
      "source": [
        "D, b = calculate_D_and_b(optimal_policy, gamma, r_max)\n",
        "c = calculate_c(lambda_max1)\n",
        "rewards = get_lp_rewards(c, D, b)\n",
        "rewards = rewards.reshape(10,10).T\n",
        "plot_heatmap(reward_func1, \"Heatmap of the ground truth reward function 1\")\n",
        "plot_heatmap(rewards, \"Heatmap of the extracted reward function 1\")"
      ],
      "metadata": {
        "colab": {
          "base_uri": "https://localhost:8080/",
          "height": 887
        },
        "id": "hoFvB72aewHL",
        "outputId": "27b4fee2-96ee-4ea6-be3f-b82159821f53"
      },
      "execution_count": null,
      "outputs": [
        {
          "output_type": "display_data",
          "data": {
            "text/plain": [
              "<Figure size 640x480 with 2 Axes>"
            ],
            "image/png": "[encoded data removed]"
          },
          "metadata": {}
        },
        {
          "output_type": "display_data",
          "data": {
            "text/plain": [
              "<Figure size 640x480 with 2 Axes>"
            ],
            "image/png": "[encoded data removed]"
          },
          "metadata": {}
        }
      ]
    },
    {
      "cell_type": "code",
      "source": [
        "snapshots = compute_state_value_snapshots(w, gamma, rewards, epsilon)\n",
        "plot_heatmap(snapshots[-1], \"Optimal value for the extracted reward function 1\")"
      ],
      "metadata": {
        "colab": {
          "base_uri": "https://localhost:8080/",
          "height": 469
        },
        "id": "YoBsA9iKhRTB",
        "outputId": "9e220c1e-ed77-4dc3-c583-b52ea508f706"
      },
      "execution_count": null,
      "outputs": [
        {
          "output_type": "stream",
          "name": "stdout",
          "text": [
            "Number of steps to converge: 31\n"
          ]
        },
        {
          "output_type": "display_data",
          "data": {
            "text/plain": [
              "<Figure size 640x480 with 2 Axes>"
            ],
            "image/png": "[encoded data removed]"
          },
          "metadata": {}
        }
      ]
    },
    {
      "cell_type": "code",
      "source": [
        "optimal_policy = find_policy(w, gamma, rewards, epsilon)"
      ],
      "metadata": {
        "id": "KupEAg1Yiaw7"
      },
      "execution_count": null,
      "outputs": []
    },
    {
      "cell_type": "code",
      "source": [
        "# Given array\n",
        "arr = optimal_policy\n",
        "\n",
        "# Mapping of arrow characters to custom arrow Unicode characters\n",
        "arrow_map = {\n",
        "    '↑': '⬆️',\n",
        "    '→': '➡️',\n",
        "    '↓': '⬇️',\n",
        "    '←': '⬅️'\n",
        "}\n",
        "\n",
        "# Convert arrow characters to custom arrow Unicode characters\n",
        "arr_custom = np.vectorize(arrow_map.get)(arr)\n",
        "\n",
        "# Create a figure and axes\n",
        "fig, ax = plt.subplots()\n",
        "\n",
        "# Hide axes\n",
        "ax.axis('off')\n",
        "\n",
        "# Create a table to display the arrows\n",
        "table = ax.table(cellText=arr_custom, cellLoc='center', bbox=[0, 0, 1, 1])\n",
        "\n",
        "# Set font properties\n",
        "fontprops = {'fontsize': 100, 'verticalalignment': 'center'}\n",
        "\n",
        "# Show the plot\n",
        "plt.show()"
      ],
      "metadata": {
        "colab": {
          "base_uri": "https://localhost:8080/",
          "height": 406
        },
        "id": "I-ORoExso6G3",
        "outputId": "0245520c-92d6-4cdb-e3bd-7e35da7d7607"
      },
      "execution_count": null,
      "outputs": [
        {
          "output_type": "display_data",
          "data": {
            "text/plain": [
              "<Figure size 640x480 with 1 Axes>"
            ],
            "image/png": "[encoded data removed]"
          },
          "metadata": {}
        }
      ]
    },
    {
      "cell_type": "code",
      "source": [
        "best_policy = find_policy(w, gamma, reward_func2, epsilon)\n",
        "best_policy = best_policy.transpose().ravel()\n",
        "\n",
        "maximum_reward = abs(reward_func2).max()\n",
        "graph_title = \"Accuracy vs Lambda with reward function 2\"\n",
        "accuracy_values = plot_and_get_accuracies(lambdas, best_policy, gamma, maximum_reward, graph_title)"
      ],
      "metadata": {
        "colab": {
          "base_uri": "https://localhost:8080/",
          "height": 504,
          "referenced_widgets": [
            "10b387e0954b4ea29a3d53519000cf88",
            "573264d413c54ba3914d4ed3be9caff6",
            "fddc5fded90a4e9293141dd783c10664",
            "1a73371decb64ec1adeb23826f7666b7",
            "e8eb0520f6fe4b86967f421c1175e7c0",
            "89e8af63bd1b4949aa74a5fe01642345",
            "59a96cb82b0442de95258804049e061a",
            "bf9ba94deaa64ec9b3f61db19ce5bab8",
            "f9f8d68b75ac4e42a1434b0dfae6460d",
            "8b9ee7e91b684502ae04cf71cb02c226",
            "7f77b0db584f4f42b9e201ab2dbe7bb2"
          ]
        },
        "id": "u4yIjZ-SipMA",
        "outputId": "1ce3e708-207c-4c20-e999-5d835e5728ef"
      },
      "execution_count": null,
      "outputs": [
        {
          "output_type": "display_data",
          "data": {
            "text/plain": [
              "  0%|          | 0/501 [00:00<?, ?it/s]"
            ],
            "application/vnd.jupyter.widget-view+json": {
              "version_major": 2,
              "version_minor": 0,
              "model_id": "10b387e0954b4ea29a3d53519000cf88"
            }
          },
          "metadata": {}
        },
        {
          "output_type": "display_data",
          "data": {
            "text/plain": [
              "<Figure size 640x480 with 1 Axes>"
            ],
            "image/png": "[encoded data removed]"
          },
          "metadata": {}
        }
      ]
    }
  ]
}