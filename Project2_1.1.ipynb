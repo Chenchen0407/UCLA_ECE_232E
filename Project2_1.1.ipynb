{
 "cells": [
  {
   "cell_type": "code",
   "execution_count": null,
   "metadata": {
    "colab": {
     "base_uri": "https://localhost:8080/"
    },
    "executionInfo": {
     "elapsed": 147203,
     "status": "ok",
     "timestamp": 1682917605166,
     "user": {
      "displayName": "Jeremy Yang",
      "userId": "06559771083611338526"
     },
     "user_tz": 420
    },
    "id": "8yTirg8SYdxX",
    "outputId": "89fe9dfb-24b9-439c-8b82-2ecf2ca9aa63"
   },
   "outputs": [
    {
     "name": "stdout",
     "output_type": "stream",
     "text": [
      "Looking in indexes: https://pypi.org/simple, https://us-python.pkg.dev/colab-wheels/public/simple/\n",
      "Collecting infomap\n",
      "  Using cached infomap-2.7.1.tar.gz (263 kB)\n",
      "  Preparing metadata (setup.py) ... \u001b[?25l\u001b[?25hdone\n",
      "Building wheels for collected packages: infomap\n",
      "  Building wheel for infomap (setup.py) ... \u001b[?25l\u001b[?25hdone\n",
      "  Created wheel for infomap: filename=infomap-2.7.1-cp310-cp310-linux_x86_64.whl size=8809047 sha256=7df8b0619c843fd0ec79821a2deb520b424376b530806930e44ba8985d7203a7\n",
      "  Stored in directory: /root/.cache/pip/wheels/e4/01/53/fd7c62079098140cd582b999592b4592c0dad7300cac32b6e1\n",
      "Successfully built infomap\n",
      "Installing collected packages: infomap\n",
      "Successfully installed infomap-2.7.1\n"
     ]
    }
   ],
   "source": [
    "pip install infomap\n"
   ]
  },
  {
   "cell_type": "code",
   "execution_count": null,
   "metadata": {
    "colab": {
     "base_uri": "https://localhost:8080/"
    },
    "executionInfo": {
     "elapsed": 14783,
     "status": "ok",
     "timestamp": 1682913227681,
     "user": {
      "displayName": "Jeremy Yang",
      "userId": "06559771083611338526"
     },
     "user_tz": 420
    },
    "id": "UccCAkyWca9-",
    "outputId": "149a2e8a-d745-4ccf-e8a7-d8d95ad8bab4"
   },
   "outputs": [
    {
     "name": "stdout",
     "output_type": "stream",
     "text": [
      "Mounted at /content/drive\n"
     ]
    }
   ],
   "source": [
    "from google.colab import drive\n",
    "drive.mount('/content/drive')"
   ]
  },
  {
   "cell_type": "code",
   "execution_count": null,
   "metadata": {
    "colab": {
     "base_uri": "https://localhost:8080/"
    },
    "executionInfo": {
     "elapsed": 301,
     "status": "ok",
     "timestamp": 1682913529525,
     "user": {
      "displayName": "Jeremy Yang",
      "userId": "06559771083611338526"
     },
     "user_tz": 420
    },
    "id": "bdqJSPtddGnL",
    "outputId": "0a42d6d5-74a8-4134-818c-9123d0610f7f"
   },
   "outputs": [
    {
     "name": "stdout",
     "output_type": "stream",
     "text": [
      "/content/drive/MyDrive\n"
     ]
    }
   ],
   "source": [
    "cd /content/drive/MyDrive"
   ]
  },
  {
   "cell_type": "code",
   "execution_count": null,
   "metadata": {
    "colab": {
     "base_uri": "https://localhost:8080/"
    },
    "executionInfo": {
     "elapsed": 238,
     "status": "ok",
     "timestamp": 1682913334742,
     "user": {
      "displayName": "Jeremy Yang",
      "userId": "06559771083611338526"
     },
     "user_tz": 420
    },
    "id": "qi-qO0kwc4pX",
    "outputId": "585506ef-c6a5-489b-c467-9e2aaee1a366"
   },
   "outputs": [
    {
     "name": "stdout",
     "output_type": "stream",
     "text": [
      "\u001b[0m\u001b[01;34mdrive\u001b[0m/  \u001b[01;34msample_data\u001b[0m/\n"
     ]
    }
   ],
   "source": [
    "ls"
   ]
  },
  {
   "cell_type": "code",
   "execution_count": null,
   "metadata": {
    "colab": {
     "base_uri": "https://localhost:8080/"
    },
    "executionInfo": {
     "elapsed": 4430,
     "status": "ok",
     "timestamp": 1682913127816,
     "user": {
      "displayName": "Jeremy Yang",
      "userId": "06559771083611338526"
     },
     "user_tz": 420
    },
    "id": "Jb-KQ_glbO7k",
    "outputId": "67492f13-80ef-4eaa-fdd8-8a6e42fe9b52"
   },
   "outputs": [
    {
     "name": "stdout",
     "output_type": "stream",
     "text": [
      "Looking in indexes: https://pypi.org/simple, https://us-python.pkg.dev/colab-wheels/public/simple/\n",
      "Requirement already satisfied: networkx in /usr/local/lib/python3.10/dist-packages (3.1)\n"
     ]
    }
   ],
   "source": [
    "pip install networkx"
   ]
  },
  {
   "cell_type": "code",
   "execution_count": null,
   "metadata": {
    "id": "520MHeSscLfB"
   },
   "outputs": [],
   "source": [
    "import networkx as nx\n",
    "import igraph as ig\n",
    "from igraph import Graph\n",
    "import matplotlib.pyplot as plt\n",
    "import numpy as np\n",
    "from scipy.stats import linregress\n",
    "import community as community_louvain"
   ]
  },
  {
   "cell_type": "code",
   "execution_count": null,
   "metadata": {
    "colab": {
     "base_uri": "https://localhost:8080/"
    },
    "executionInfo": {
     "elapsed": 345,
     "status": "ok",
     "timestamp": 1682914045246,
     "user": {
      "displayName": "Jeremy Yang",
      "userId": "06559771083611338526"
     },
     "user_tz": 420
    },
    "id": "9RIXIPGPcHqw",
    "outputId": "cce458e0-9a1c-4584-cd32-85d0c2847f12"
   },
   "outputs": [
    {
     "name": "stdout",
     "output_type": "stream",
     "text": [
      "Number of nodes: 4039\n",
      "Number of edges: 88234\n"
     ]
    }
   ],
   "source": [
    "da_path = '/content/drive/MyDrive/facebook_combined.txt'\n",
    "g = nx.read_edgelist(da_path, create_using=nx.Graph(), nodetype=int)\n",
    "number_of_nodes = nx.number_of_nodes(g)\n",
    "number_of_edges = nx.number_of_edges(g)\n",
    "\n",
    "print(f\"Number of nodes: {number_of_nodes}\")\n",
    "print(f\"Number of edges: {number_of_edges}\")"
   ]
  },
  {
   "cell_type": "code",
   "execution_count": null,
   "metadata": {
    "colab": {
     "base_uri": "https://localhost:8080/"
    },
    "executionInfo": {
     "elapsed": 126,
     "status": "ok",
     "timestamp": 1682914046524,
     "user": {
      "displayName": "Jeremy Yang",
      "userId": "06559771083611338526"
     },
     "user_tz": 420
    },
    "id": "sBA41480eaIx",
    "outputId": "f03031e7-0a80-4a1b-d02b-f13d219a3b8b"
   },
   "outputs": [
    {
     "name": "stdout",
     "output_type": "stream",
     "text": [
      "The graph connected? True\n"
     ]
    }
   ],
   "source": [
    "is_connected = nx.is_connected(g)\n",
    "print(f\"The graph connected? {is_connected}\")"
   ]
  },
  {
   "cell_type": "code",
   "execution_count": null,
   "metadata": {
    "colab": {
     "base_uri": "https://localhost:8080/"
    },
    "executionInfo": {
     "elapsed": 54708,
     "status": "ok",
     "timestamp": 1682914151104,
     "user": {
      "displayName": "Jeremy Yang",
      "userId": "06559771083611338526"
     },
     "user_tz": 420
    },
    "id": "LEFHbR-se_AM",
    "outputId": "a398e800-cf3a-4679-f112-ff8c6f17381a"
   },
   "outputs": [
    {
     "name": "stdout",
     "output_type": "stream",
     "text": [
      "Diameter of the graph: 8\n"
     ]
    }
   ],
   "source": [
    "if is_connected:\n",
    "    diameter = nx.diameter(g)\n",
    "else:\n",
    "    diameter = \"undefined (graph not connected)\"\n",
    "\n",
    "print(f\"Diameter of the graph: {diameter}\")"
   ]
  },
  {
   "cell_type": "code",
   "execution_count": null,
   "metadata": {
    "colab": {
     "base_uri": "https://localhost:8080/",
     "height": 490
    },
    "executionInfo": {
     "elapsed": 687,
     "status": "ok",
     "timestamp": 1682914278122,
     "user": {
      "displayName": "Jeremy Yang",
      "userId": "06559771083611338526"
     },
     "user_tz": 420
    },
    "id": "Wr_FWRgJgD5Y",
    "outputId": "111814df-db51-422f-8824-10708676087d"
   },
   "outputs": [
    {
     "data": {
      "image/png": "[encoded data removed]",
      "text/plain": [
       "<Figure size 640x480 with 1 Axes>"
      ]
     },
     "metadata": {},
     "output_type": "display_data"
    },
    {
     "name": "stdout",
     "output_type": "stream",
     "text": [
      "mean=43.691013\n"
     ]
    }
   ],
   "source": [
    "degrees = [d for n, d in g.degree()]\n",
    "\n",
    "plt.hist(degrees, bins=30)\n",
    "plt.title(\"Degree distribution of the Facebook network\")\n",
    "plt.xlabel(\"Degree\")\n",
    "plt.ylabel(\"Frequency\")\n",
    "plt.show()\n",
    "\n",
    "mean_degree = sum(degrees) / len(degrees)\n",
    "print(f\"mean={mean_degree:.6f}\")"
   ]
  },
  {
   "cell_type": "code",
   "execution_count": null,
   "metadata": {
    "colab": {
     "base_uri": "https://localhost:8080/",
     "height": 494
    },
    "executionInfo": {
     "elapsed": 1299,
     "status": "ok",
     "timestamp": 1682914383361,
     "user": {
      "displayName": "Jeremy Yang",
      "userId": "06559771083611338526"
     },
     "user_tz": 420
    },
    "id": "-3ZPlYzMglrb",
    "outputId": "90a8db29-1262-4654-9b8b-c7c1db294a7f"
   },
   "outputs": [
    {
     "data": {
      "image/png": "[encoded data removed]",
      "text/plain": [
       "<Figure size 640x480 with 1 Axes>"
      ]
     },
     "metadata": {},
     "output_type": "display_data"
    },
    {
     "name": "stdout",
     "output_type": "stream",
     "text": [
      "Slope of the fitted line: -1.180\n"
     ]
    }
   ],
   "source": [
    "# degree_values, degree_counts = np.unique(degrees, return_counts=True)\n",
    "# degree_prob = degree_counts / len(degrees)\n",
    "\n",
    "# plt.loglog(degree_values, degree_prob, 'o', markersize=8)\n",
    "# plt.title(\"Degree distribution of the Facebook network (log-log scale)\")\n",
    "# plt.xlabel(\"Degree (log)\")\n",
    "# plt.ylabel(\"Frequency (log)\")\n",
    "# plt.grid(True)\n",
    "\n",
    "# slope, intercept = np.polyfit(np.log10(degree_values), np.log10(degree_prob), 1)\n",
    "\n",
    "# plt.plot(degree_values, 10**(intercept + slope*np.log10(degree_values)), 'r')\n",
    "\n",
    "# plt.show()\n",
    "\n",
    "# print(f\"Slope of the fitted line: {slope:.3f}\")"
   ]
  },
  {
   "cell_type": "code",
   "execution_count": null,
   "metadata": {
    "colab": {
     "base_uri": "https://localhost:8080/",
     "height": 490
    },
    "executionInfo": {
     "elapsed": 341,
     "status": "ok",
     "timestamp": 1682914564108,
     "user": {
      "displayName": "Jeremy Yang",
      "userId": "06559771083611338526"
     },
     "user_tz": 420
    },
    "id": "_j7N7LVvhVVS",
    "outputId": "ac18c1db-e9d5-487b-a8a0-ff8a82c12776"
   },
   "outputs": [
    {
     "data": {
      "image/png": "[encoded data removed]",
      "text/plain": [
       "<Figure size 640x480 with 1 Axes>"
      ]
     },
     "metadata": {},
     "output_type": "display_data"
    },
    {
     "name": "stdout",
     "output_type": "stream",
     "text": [
      "Slope: -1.180\n"
     ]
    }
   ],
   "source": [
    "def plot_degree_distribution(g):\n",
    "\n",
    "    degrees = [d for n, d in g.degree()]\n",
    "    degree_values, degree_counts = np.unique(degrees, return_counts=True)\n",
    "    degree_prob = degree_counts / len(degrees)\n",
    "\n",
    "    non_zero_idxs = np.where(degree_prob != 0)\n",
    "    x = np.log2(degree_values)[non_zero_idxs]\n",
    "    y = np.log2(degree_prob)[non_zero_idxs]\n",
    "\n",
    "    plt.plot(x, y, 'o', markersize=8)\n",
    "    plt.title(\"Degree distribution of the Facebook network (log-log scale)\")\n",
    "    plt.xlabel(\"Degree (log)\")\n",
    "    plt.ylabel(\"Frequency (log)\")\n",
    "    plt.grid(True)\n",
    "    linear_model = linregress(x, y)\n",
    "\n",
    "    plt.plot(x, linear_model.intercept + linear_model.slope * x, 'r')\n",
    "\n",
    "    plt.show()\n",
    "\n",
    "    print(f\"Slope: {linear_model.slope:.3f}\")\n",
    "\n",
    "plot_degree_distribution(g)"
   ]
  },
  {
   "cell_type": "code",
   "execution_count": null,
   "metadata": {
    "colab": {
     "base_uri": "https://localhost:8080/"
    },
    "executionInfo": {
     "elapsed": 776,
     "status": "ok",
     "timestamp": 1682914675377,
     "user": {
      "displayName": "Jeremy Yang",
      "userId": "06559771083611338526"
     },
     "user_tz": 420
    },
    "id": "5G-a5P6DhssI",
    "outputId": "ceb557ec-1427-482d-fbc7-c6ae79c5244f"
   },
   "outputs": [
    {
     "name": "stdout",
     "output_type": "stream",
     "text": [
      "Number of nodes: 348\n",
      "Number of edges: 2866\n"
     ]
    }
   ],
   "source": [
    "def ego_graph(g, node, order=1, mindist=0):\n",
    "    return nx.ego_graph(g, node, radius=order, center=True, undirected=True, distance=None)\n",
    "\n",
    "node = list(g.nodes())[0]\n",
    "\n",
    "g_ego = ego_graph(g, node, order=1, mindist=0)\n",
    "\n",
    "number_of_nodes_ego = nx.number_of_nodes(g_ego)\n",
    "number_of_edges_ego = nx.number_of_edges(g_ego)\n",
    "\n",
    "print(f\"Number of nodes: {number_of_nodes_ego}\")\n",
    "print(f\"Number of edges: {number_of_edges_ego}\")"
   ]
  },
  {
   "cell_type": "code",
   "execution_count": null,
   "metadata": {
    "colab": {
     "base_uri": "https://localhost:8080/"
    },
    "executionInfo": {
     "elapsed": 121,
     "status": "ok",
     "timestamp": 1682914873561,
     "user": {
      "displayName": "Jeremy Yang",
      "userId": "06559771083611338526"
     },
     "user_tz": 420
    },
    "id": "gHYQ4ZmoiY8C",
    "outputId": "3647c04b-b309-4299-a450-80ee1a01a48c"
   },
   "outputs": [
    {
     "name": "stdout",
     "output_type": "stream",
     "text": [
      "Diameter of the graph: 2\n"
     ]
    }
   ],
   "source": [
    "is_ego_connected = nx.is_connected(g_ego)\n",
    "if is_ego_connected:\n",
    "    diameter = nx.diameter(g_ego)\n",
    "else:\n",
    "    diameter = \"undefined (graph not connected)\"\n",
    "\n",
    "print(f\"Diameter of the graph: {diameter}\")"
   ]
  },
  {
   "cell_type": "code",
   "execution_count": null,
   "metadata": {
    "colab": {
     "base_uri": "https://localhost:8080/"
    },
    "executionInfo": {
     "elapsed": 135,
     "status": "ok",
     "timestamp": 1682916038457,
     "user": {
      "displayName": "Jeremy Yang",
      "userId": "06559771083611338526"
     },
     "user_tz": 420
    },
    "id": "s2de44n3m7Bp",
    "outputId": "58e55338-ce55-4834-d754-ed25d61a7163"
   },
   "outputs": [
    {
     "name": "stdout",
     "output_type": "stream",
     "text": [
      "Number of core nodes: 41\n",
      "Average degree of the core nodes: 277.439024\n"
     ]
    }
   ],
   "source": [
    "core_nodes = [n for n in g.nodes() if len(nx.single_source_shortest_path_length(g, n, cutoff=1)) > 200]\n",
    "\n",
    "num_core_nodes = len(core_nodes)\n",
    "\n",
    "average_degree = sum(g.degree(n) for n in core_nodes) / num_core_nodes\n",
    "\n",
    "print(f\"Number of core nodes: {num_core_nodes}\")\n",
    "print(f\"Average degree of the core nodes: {average_degree:.6f}\")"
   ]
  },
  {
   "cell_type": "code",
   "execution_count": null,
   "metadata": {
    "colab": {
     "base_uri": "https://localhost:8080/",
     "height": 339
    },
    "executionInfo": {
     "elapsed": 15287,
     "status": "error",
     "timestamp": 1682917632899,
     "user": {
      "displayName": "Jeremy Yang",
      "userId": "06559771083611338526"
     },
     "user_tz": 420
    },
    "id": "GhP0PZGMoU8z",
    "outputId": "33b589a1-7cd7-4d2d-9978-4aa5f2bc10b7"
   },
   "outputs": [
    {
     "ename": "AttributeError",
     "evalue": "ignored",
     "output_type": "error",
     "traceback": [
      "\u001b[0;31m---------------------------------------------------------------------------\u001b[0m",
      "\u001b[0;31mAttributeError\u001b[0m                            Traceback (most recent call last)",
      "\u001b[0;32m<ipython-input-67-7ece0948bd18>\u001b[0m in \u001b[0;36m<cell line: 21>\u001b[0;34m()\u001b[0m\n\u001b[1;32m     21\u001b[0m \u001b[0;32mfor\u001b[0m \u001b[0mi\u001b[0m\u001b[0;34m,\u001b[0m \u001b[0mnode_id\u001b[0m \u001b[0;32min\u001b[0m \u001b[0menumerate\u001b[0m\u001b[0;34m(\u001b[0m\u001b[0mtarget_nodes\u001b[0m\u001b[0;34m)\u001b[0m\u001b[0;34m:\u001b[0m\u001b[0;34m\u001b[0m\u001b[0;34m\u001b[0m\u001b[0m\n\u001b[1;32m     22\u001b[0m     \u001b[0mg_sub\u001b[0m \u001b[0;34m=\u001b[0m \u001b[0mpersonalized_networks\u001b[0m\u001b[0;34m[\u001b[0m\u001b[0mi\u001b[0m\u001b[0;34m]\u001b[0m\u001b[0;34m\u001b[0m\u001b[0;34m\u001b[0m\u001b[0m\n\u001b[0;32m---> 23\u001b[0;31m     \u001b[0mplot_communities\u001b[0m\u001b[0;34m(\u001b[0m\u001b[0mg_sub\u001b[0m\u001b[0;34m,\u001b[0m \u001b[0mnode_id\u001b[0m\u001b[0;34m)\u001b[0m\u001b[0;34m\u001b[0m\u001b[0;34m\u001b[0m\u001b[0m\n\u001b[0m",
      "\u001b[0;32m<ipython-input-67-7ece0948bd18>\u001b[0m in \u001b[0;36mplot_communities\u001b[0;34m(g, node_id)\u001b[0m\n\u001b[1;32m      4\u001b[0m \u001b[0;34m\u001b[0m\u001b[0m\n\u001b[1;32m      5\u001b[0m \u001b[0;32mdef\u001b[0m \u001b[0mplot_communities\u001b[0m\u001b[0;34m(\u001b[0m\u001b[0mg\u001b[0m\u001b[0;34m,\u001b[0m \u001b[0mnode_id\u001b[0m\u001b[0;34m)\u001b[0m\u001b[0;34m:\u001b[0m\u001b[0;34m\u001b[0m\u001b[0;34m\u001b[0m\u001b[0m\n\u001b[0;32m----> 6\u001b[0;31m     \u001b[0mpartition\u001b[0m \u001b[0;34m=\u001b[0m \u001b[0mcommunity_louvain\u001b[0m\u001b[0;34m.\u001b[0m\u001b[0mbest_partition\u001b[0m\u001b[0;34m(\u001b[0m\u001b[0mg\u001b[0m\u001b[0;34m)\u001b[0m\u001b[0;34m\u001b[0m\u001b[0;34m\u001b[0m\u001b[0m\n\u001b[0m\u001b[1;32m      7\u001b[0m     \u001b[0mpos\u001b[0m \u001b[0;34m=\u001b[0m \u001b[0mnx\u001b[0m\u001b[0;34m.\u001b[0m\u001b[0mspring_layout\u001b[0m\u001b[0;34m(\u001b[0m\u001b[0mg\u001b[0m\u001b[0;34m)\u001b[0m\u001b[0;34m\u001b[0m\u001b[0;34m\u001b[0m\u001b[0m\n\u001b[1;32m      8\u001b[0m     \u001b[0mcmap\u001b[0m \u001b[0;34m=\u001b[0m \u001b[0mplt\u001b[0m\u001b[0;34m.\u001b[0m\u001b[0mcm\u001b[0m\u001b[0;34m.\u001b[0m\u001b[0mget_cmap\u001b[0m\u001b[0;34m(\u001b[0m\u001b[0;34m'viridis'\u001b[0m\u001b[0;34m,\u001b[0m \u001b[0mmax\u001b[0m\u001b[0;34m(\u001b[0m\u001b[0mpartition\u001b[0m\u001b[0;34m.\u001b[0m\u001b[0mvalues\u001b[0m\u001b[0;34m(\u001b[0m\u001b[0;34m)\u001b[0m\u001b[0;34m)\u001b[0m \u001b[0;34m+\u001b[0m \u001b[0;36m1\u001b[0m\u001b[0;34m)\u001b[0m\u001b[0;34m\u001b[0m\u001b[0;34m\u001b[0m\u001b[0m\n",
      "\u001b[0;31mAttributeError\u001b[0m: module 'community' has no attribute 'best_partition'"
     ]
    }
   ],
   "source": [
    "import networkx as nx\n",
    "import matplotlib.pyplot as plt\n",
    "import community as community_louvain\n",
    "\n",
    "def plot_communities(g, node_id):\n",
    "    partition = community_louvain.best_partition(g)\n",
    "    pos = nx.spring_layout(g)\n",
    "    cmap = plt.cm.get_cmap('viridis', max(partition.values()) + 1)\n",
    "    \n",
    "    plt.figure(figsize=(10, 10))\n",
    "    nx.draw_networkx_nodes(g, pos, nodelist=g.nodes, node_color=list(partition.values()), cmap=cmap, node_size=50)\n",
    "    nx.draw_networkx_edges(g, pos, alpha=0.5)\n",
    "    \n",
    "    plt.title(f\"Community Structure for Node ID={node_id}\")\n",
    "    plt.axis(\"off\")\n",
    "    plt.show()\n",
    "\n",
    "target_nodes = [1, 108, 349, 484, 1087]\n",
    "personalized_networks = [nx.ego_graph(g, node - 1, radius=1, center=True, undirected=True, distance=None) for node in target_nodes]\n",
    "\n",
    "for i, node_id in enumerate(target_nodes):\n",
    "    g_sub = personalized_networks[i]\n",
    "    plot_communities(g_sub, node_id)"
   ]
  },
  {
   "cell_type": "code",
   "execution_count": null,
   "metadata": {
    "colab": {
     "base_uri": "https://localhost:8080/",
     "height": 1000,
     "output_embedded_package_id": "1CR6oOYKNjXven9Qs1NVUtqWspUaQ4w6s"
    },
    "executionInfo": {
     "elapsed": 2926427,
     "status": "error",
     "timestamp": 1682920786763,
     "user": {
      "displayName": "Jeremy Yang",
      "userId": "06559771083611338526"
     },
     "user_tz": 420
    },
    "id": "EuQo5t3epaQT",
    "outputId": "337af77b-ec19-43dc-fc1e-0e28612eefa1"
   },
   "outputs": [
    {
     "data": {
      "text/plain": [
       "Output hidden; open in https://colab.research.google.com to view."
      ]
     },
     "metadata": {},
     "output_type": "display_data"
    }
   ],
   "source": [
    "import networkx as nx\n",
    "import matplotlib.pyplot as plt\n",
    "import igraph as ig\n",
    "from infomap import Infomap\n",
    "\n",
    "def fast_greedy_community(graph):\n",
    "    return nx.community.greedy_modularity_communities(graph)\n",
    "\n",
    "def edge_betweenness_community(g):\n",
    "    ig_g = ig.Graph.from_networkx(g)\n",
    "    dendrogram = ig_g.community_edge_betweenness(directed=False)\n",
    "    clusters = dendrogram.as_clustering()\n",
    "    return [set(cluster) for cluster in clusters]\n",
    "\n",
    "def infomap_community(g):\n",
    "    im = Infomap()\n",
    "    for e in g.edges:\n",
    "        im.add_link(*e)\n",
    "    im.run()\n",
    "    communities = {}\n",
    "    for node in im.nodes:\n",
    "        if node.is_leaf and node.module_id not in communities:\n",
    "            communities[node.module_id] = set()\n",
    "        communities[node.module_id].add(node.node_id)\n",
    "    return list(communities.values())\n",
    "\n",
    "def plot_communities(g, node_id, method_name, communities):\n",
    "    pos = nx.spring_layout(g)\n",
    "    cmap = plt.cm.get_cmap('viridis', len(communities))\n",
    "    plt.figure(figsize=(10, 10))\n",
    "    for i, community in enumerate(communities):\n",
    "        nx.draw_networkx_nodes(g, pos, nodelist=community, node_color=[cmap(i)], node_size=50)\n",
    "    nx.draw_networkx_edges(g, pos, alpha=0.5)\n",
    "    plt.title(f\"Community Structure of {method_name} for Node ID={node_id}\")\n",
    "    plt.axis(\"off\")\n",
    "    plt.show()\n",
    "\n",
    "def modularity(g, communities):\n",
    "    return nx.community.modularity(g, communities)\n",
    "\n",
    "target_nodes = [1, 108, 349, 484, 1087]\n",
    "personalized_networks = [nx.ego_graph(g, node - 1, radius=1, center=True, undirected=True, distance=None) for node in target_nodes]\n",
    "\n",
    "methods = [\n",
    "    ('Fast-Greedy', fast_greedy_community),\n",
    "    ('Edge-Betweenness', edge_betweenness_community),\n",
    "    ('Infomap', infomap_community)\n",
    "]\n",
    "\n",
    "for i, node_id in enumerate(target_nodes):\n",
    "    g_sub = personalized_networks[i]\n",
    "    for method_name, method in methods:\n",
    "        communities = method(g_sub)\n",
    "        plot_communities(g_sub, node_id, method_name, communities)\n",
    "        modularity_score = modularity(g_sub, communities)\n",
    "        print(f\"Modularity of {method_name} for Node ID={node_id}: {modularity_score:.3f}\")"
   ]
  }
 ],
 "metadata": {
  "colab": {
   "authorship_tag": "ABX9TyOt34iPaeH0P0iaOz5x0PYg",
   "provenance": []
  },
  "kernelspec": {
   "display_name": "Python 3 (ipykernel)",
   "language": "python",
   "name": "python3"
  },
  "language_info": {
   "codemirror_mode": {
    "name": "ipython",
    "version": 3
   },
   "file_extension": ".py",
   "mimetype": "text/x-python",
   "name": "python",
   "nbconvert_exporter": "python",
   "pygments_lexer": "ipython3",
   "version": "3.9.13"
  }
 },
 "nbformat": 4,
 "nbformat_minor": 1
}
