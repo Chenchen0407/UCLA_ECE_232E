{
 "cells": [
  {
   "cell_type": "code",
   "execution_count": 6,
   "id": "d34c6a68",
   "metadata": {},
   "outputs": [
    {
     "name": "stdout",
     "output_type": "stream",
     "text": [
      "TSP path: [0, 2, 1, 3, 0]\n"
     ]
    }
   ],
   "source": [
    "import igraph as ig\n",
    "import numpy as np\n",
    "\n",
    "# Define a helper function to get unique vertices in a path\n",
    "def unique_path(path):\n",
    "    visited = set()\n",
    "    unique = []\n",
    "    for vertex in path:\n",
    "        if vertex not in visited:\n",
    "            unique.append(vertex)\n",
    "            visited.add(vertex)\n",
    "    return unique\n",
    "\n",
    "# Create a graph (this is just a sample, replace with your graph)\n",
    "graph = ig.Graph([(0, 1),(0,2), (1, 2), (2, 3), (3, 0)], directed=False)\n",
    "graph.es['weight'] = [1, 0.5 ,0.1, 1, 2]\n",
    "\n",
    "# Calculate the Minimum Spanning Tree (MST)\n",
    "mst = graph.spanning_tree(weights=graph.es['weight'])\n",
    "\n",
    "# Duplicate the edges to make the graph Eulerian\n",
    "eulerian_graph = ig.Graph(directed=False)\n",
    "eulerian_graph.add_vertices(graph.vcount())\n",
    "for edge in mst.es:\n",
    "    source, target = graph.vs[edge.source].index, graph.vs[edge.target].index\n",
    "    eulerian_graph.add_edge(source, target)\n",
    "    eulerian_graph.add_edge(source, target)\n",
    "\n",
    "# Find the Eulerian cycle using Hierholzer's algorithm\n",
    "def get_eulerian_circuit(graph):\n",
    "    search_stack = [0]  # Start from node 0\n",
    "    eulerian_circuit = []\n",
    "\n",
    "    while search_stack:\n",
    "        v = search_stack[-1]\n",
    "        if graph.degree(v) > 0:\n",
    "            # Remove one edge\n",
    "            for w in graph.neighbors(v):\n",
    "                graph.delete_edges(graph.get_eid(v, w))\n",
    "                search_stack.append(w)\n",
    "                break\n",
    "        else:\n",
    "            # If no more edges, we can add this node to the circuit\n",
    "            eulerian_circuit.append(search_stack.pop())\n",
    "    return eulerian_circuit[::-1]  # Reverse to get the correct order\n",
    "\n",
    "eulerian_path = get_eulerian_circuit(eulerian_graph)\n",
    "\n",
    "# Make the path unique\n",
    "tsp_path = unique_path(eulerian_path)\n",
    "\n",
    "# Add the start of the path to the end, to make the salesman return to the start\n",
    "tsp_path.append(tsp_path[0])\n",
    "\n",
    "print('TSP path:', tsp_path)"
   ]
  },
  {
   "cell_type": "code",
   "execution_count": null,
   "id": "4c1639f6",
   "metadata": {},
   "outputs": [],
   "source": []
  }
 ],
 "metadata": {
  "kernelspec": {
   "display_name": "Python 3 (ipykernel)",
   "language": "python",
   "name": "python3"
  },
  "language_info": {
   "codemirror_mode": {
    "name": "ipython",
    "version": 3
   },
   "file_extension": ".py",
   "mimetype": "text/x-python",
   "name": "python",
   "nbconvert_exporter": "python",
   "pygments_lexer": "ipython3",
   "version": "3.9.13"
  }
 },
 "nbformat": 4,
 "nbformat_minor": 5
}
